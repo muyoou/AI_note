{
 "cells": [
  {
   "attachments": {},
   "cell_type": "markdown",
   "metadata": {},
   "source": [
    "### 构建神经网络"
   ]
  },
  {
   "attachments": {},
   "cell_type": "markdown",
   "metadata": {},
   "source": [
    "加载自定义数据："
   ]
  },
  {
   "cell_type": "code",
   "execution_count": 1,
   "metadata": {},
   "outputs": [
    {
     "data": {
      "text/plain": [
       "<matplotlib.collections.PathCollection at 0x1d652765130>"
      ]
     },
     "execution_count": 1,
     "metadata": {},
     "output_type": "execute_result"
    },
    {
     "data": {
      "image/png": "[encoded data removed]",
      "text/plain": [
       "<Figure size 640x480 with 1 Axes>"
      ]
     },
     "metadata": {},
     "output_type": "display_data"
    }
   ],
   "source": [
    "import pandas as pd\n",
    "from torch.utils.data import DataLoader, TensorDataset\n",
    "import matplotlib.pyplot as plt\n",
    "import torch\n",
    "data = pd.read_csv(\"data/myData/data_1d.csv\")\n",
    "X = torch.tensor(data['X'].values).reshape(-1, 1).float()\n",
    "Y = torch.tensor(data['Y'].values).reshape(-1, 1).float()\n",
    "# 数据归一化\n",
    "x_mean = X.mean()\n",
    "x_std = X.std()\n",
    "X = (X - x_mean) / x_std\n",
    "training_data = TensorDataset(X,Y)\n",
    "#shuffle随机打乱\n",
    "train_dataloader = DataLoader(training_data, batch_size=10, shuffle=True)\n",
    "plt.scatter(X,Y)"
   ]
  },
  {
   "cell_type": "code",
   "execution_count": 2,
   "metadata": {},
   "outputs": [
    {
     "name": "stdout",
     "output_type": "stream",
     "text": [
      "Using cuda device\n"
     ]
    }
   ],
   "source": [
    "import torch\n",
    "from torch import nn\n",
    "\n",
    "device = (\n",
    "    \"cuda\"\n",
    "    if torch.cuda.is_available()\n",
    "    else \"mps\"\n",
    "    if torch.backends.mps.is_available()\n",
    "    else \"cpu\"\n",
    ")\n",
    "print(f\"Using {device} device\")"
   ]
  },
  {
   "attachments": {},
   "cell_type": "markdown",
   "metadata": {},
   "source": [
    "#### 定义类"
   ]
  },
  {
   "cell_type": "code",
   "execution_count": 3,
   "metadata": {},
   "outputs": [],
   "source": [
    "class NeuralNetwork(nn.Module):\n",
    "    def __init__(self):\n",
    "        super().__init__()\n",
    "        self.linear = torch.nn.Linear(1, 1)  # 输入维度为 1，输出维度为 1\n",
    "\n",
    "    def forward(self, x):\n",
    "        y_pred = self.linear(x)\n",
    "        return y_pred"
   ]
  },
  {
   "attachments": {},
   "cell_type": "markdown",
   "metadata": {},
   "source": [
    "#### 损失函数\n",
    "- nn.MSELoss：均方误差损失函数，用于回归任务。  \n",
    "- nn.CrossEntropyLoss：交叉熵损失函数，用于多分类任务。  \n",
    "- nn.BCELoss：二元交叉熵损失函数，用于二分类任务。  \n",
    "- nn.NLLLoss：负对数似然损失函数，通常用于文本分类任务。  \n",
    "- nn.KLDivLoss：KL 散度损失函数，用于计算两个概率分布之间的距离。  \n",
    "- nn.SmoothL1Loss：平滑 L1 损失函数，与均方误差损失函数类似，但对离群值的惩罚更小，适用于回归任务。"
   ]
  },
  {
   "cell_type": "code",
   "execution_count": 4,
   "metadata": {},
   "outputs": [],
   "source": [
    "#将模型添加到GPU\n",
    "model = NeuralNetwork().to(device)\n",
    "# 定义损失函数和优化器\n",
    "# 均方差\n",
    "criterion = torch.nn.MSELoss()\n",
    "# 随机梯度下降\n",
    "optimizer = torch.optim.SGD(model.parameters(), lr=0.1)\n",
    "# model.parameters()用于返回模型中所有可训练的参数"
   ]
  },
  {
   "attachments": {},
   "cell_type": "markdown",
   "metadata": {},
   "source": [
    "训练模型"
   ]
  },
  {
   "cell_type": "code",
   "execution_count": 5,
   "metadata": {},
   "outputs": [
    {
     "name": "stdout",
     "output_type": "stream",
     "text": [
      "迭代: [1/10], Loss: 41332.0742\n",
      "迭代: [1/10], Loss: 18312.5898\n",
      "迭代: [1/10], Loss: 11513.5068\n",
      "迭代: [1/10], Loss: 7394.3994\n",
      "迭代: [1/10], Loss: 5566.8682\n",
      "迭代: [1/10], Loss: 3659.0156\n",
      "迭代: [1/10], Loss: 1456.0555\n",
      "迭代: [1/10], Loss: 740.2213\n",
      "迭代: [1/10], Loss: 1365.5927\n",
      "迭代: [1/10], Loss: 488.0543\n",
      "迭代: [2/10], Loss: 1298.4960\n",
      "迭代: [2/10], Loss: 346.7413\n",
      "迭代: [2/10], Loss: 267.7467\n",
      "迭代: [2/10], Loss: 579.1392\n",
      "迭代: [2/10], Loss: 357.8111\n",
      "迭代: [2/10], Loss: 456.3907\n",
      "迭代: [2/10], Loss: 353.8194\n",
      "迭代: [2/10], Loss: 187.1322\n",
      "迭代: [2/10], Loss: 260.7514\n",
      "迭代: [2/10], Loss: 136.5156\n",
      "迭代: [3/10], Loss: 255.8396\n",
      "迭代: [3/10], Loss: 221.0678\n",
      "迭代: [3/10], Loss: 186.3450\n",
      "迭代: [3/10], Loss: 368.8568\n",
      "迭代: [3/10], Loss: 223.2333\n",
      "迭代: [3/10], Loss: 321.9094\n",
      "迭代: [3/10], Loss: 542.9917\n",
      "迭代: [3/10], Loss: 346.1207\n",
      "迭代: [3/10], Loss: 281.6850\n",
      "迭代: [3/10], Loss: 287.9547\n",
      "迭代: [4/10], Loss: 378.2253\n",
      "迭代: [4/10], Loss: 138.9463\n",
      "迭代: [4/10], Loss: 402.0691\n",
      "迭代: [4/10], Loss: 233.0821\n",
      "迭代: [4/10], Loss: 289.7036\n",
      "迭代: [4/10], Loss: 190.6734\n",
      "迭代: [4/10], Loss: 279.4749\n",
      "迭代: [4/10], Loss: 377.7816\n",
      "迭代: [4/10], Loss: 252.7388\n",
      "迭代: [4/10], Loss: 424.0923\n",
      "迭代: [5/10], Loss: 334.7999\n",
      "迭代: [5/10], Loss: 318.4372\n",
      "迭代: [5/10], Loss: 249.2423\n",
      "迭代: [5/10], Loss: 352.4745\n",
      "迭代: [5/10], Loss: 188.8477\n",
      "迭代: [5/10], Loss: 356.8543\n",
      "迭代: [5/10], Loss: 412.3798\n",
      "迭代: [5/10], Loss: 269.6803\n",
      "迭代: [5/10], Loss: 391.2921\n",
      "迭代: [5/10], Loss: 135.1283\n",
      "迭代: [6/10], Loss: 247.2035\n",
      "迭代: [6/10], Loss: 544.4031\n",
      "迭代: [6/10], Loss: 201.4650\n",
      "迭代: [6/10], Loss: 330.7658\n",
      "迭代: [6/10], Loss: 306.8710\n",
      "迭代: [6/10], Loss: 277.3133\n",
      "迭代: [6/10], Loss: 238.3036\n",
      "迭代: [6/10], Loss: 390.2088\n",
      "迭代: [6/10], Loss: 306.7776\n",
      "迭代: [6/10], Loss: 184.2007\n",
      "迭代: [7/10], Loss: 148.5385\n",
      "迭代: [7/10], Loss: 307.9232\n",
      "迭代: [7/10], Loss: 339.7950\n",
      "迭代: [7/10], Loss: 405.8971\n",
      "迭代: [7/10], Loss: 318.8739\n",
      "迭代: [7/10], Loss: 409.6645\n",
      "迭代: [7/10], Loss: 373.8911\n",
      "迭代: [7/10], Loss: 259.3717\n",
      "迭代: [7/10], Loss: 175.5361\n",
      "迭代: [7/10], Loss: 297.2008\n",
      "迭代: [8/10], Loss: 227.2846\n",
      "迭代: [8/10], Loss: 322.4756\n",
      "迭代: [8/10], Loss: 310.0910\n",
      "迭代: [8/10], Loss: 318.5689\n",
      "迭代: [8/10], Loss: 295.1812\n",
      "迭代: [8/10], Loss: 334.6290\n",
      "迭代: [8/10], Loss: 421.4944\n",
      "迭代: [8/10], Loss: 469.7473\n",
      "迭代: [8/10], Loss: 135.3218\n",
      "迭代: [8/10], Loss: 218.5218\n",
      "迭代: [9/10], Loss: 302.9483\n",
      "迭代: [9/10], Loss: 299.4616\n",
      "迭代: [9/10], Loss: 233.0502\n",
      "迭代: [9/10], Loss: 351.1714\n",
      "迭代: [9/10], Loss: 444.6732\n",
      "迭代: [9/10], Loss: 121.9089\n",
      "迭代: [9/10], Loss: 302.1964\n",
      "迭代: [9/10], Loss: 253.3471\n",
      "迭代: [9/10], Loss: 323.2339\n",
      "迭代: [9/10], Loss: 357.9570\n",
      "迭代: [10/10], Loss: 375.9238\n",
      "迭代: [10/10], Loss: 163.9153\n",
      "迭代: [10/10], Loss: 129.2023\n",
      "迭代: [10/10], Loss: 386.1654\n",
      "迭代: [10/10], Loss: 249.4399\n",
      "迭代: [10/10], Loss: 645.9592\n",
      "迭代: [10/10], Loss: 235.8055\n",
      "迭代: [10/10], Loss: 349.3735\n",
      "迭代: [10/10], Loss: 243.8541\n",
      "迭代: [10/10], Loss: 276.8315\n"
     ]
    }
   ],
   "source": [
    "num_epochs = 10\n",
    "for epoch in range(num_epochs):\n",
    "        #模型进入训练模式\n",
    "        model.train()\n",
    "        #遍历数据\n",
    "        for batch, (inputs, targets) in enumerate(train_dataloader):\n",
    "                #将数据添加到GPU\n",
    "                inputs, targets = inputs.to(device), targets.to(device)\n",
    "                # 前向传播\n",
    "                pred = model(inputs)\n",
    "                # loss计算\n",
    "                loss = criterion(pred, targets)\n",
    "                # 梯度清零\n",
    "                optimizer.zero_grad()\n",
    "                # 反向传播\n",
    "                loss.backward()\n",
    "                # 更新参数的值\n",
    "                optimizer.step()\n",
    "                # 输出数据\n",
    "                print('迭代: [{}/{}], Loss: {:.4f}'.format(epoch+1, num_epochs, loss.item()))"
   ]
  },
  {
   "attachments": {},
   "cell_type": "markdown",
   "metadata": {},
   "source": [
    "#### 结果可视化"
   ]
  },
  {
   "cell_type": "code",
   "execution_count": 6,
   "metadata": {},
   "outputs": [
    {
     "name": "stdout",
     "output_type": "stream",
     "text": [
      "直线方程为: y = 45.13x + 170.37\n"
     ]
    },
    {
     "data": {
      "text/plain": [
       "[<matplotlib.lines.Line2D at 0x1d605c13dc0>]"
      ]
     },
     "execution_count": 6,
     "metadata": {},
     "output_type": "execute_result"
    },
    {
     "data": {
      "image/png": "[encoded data removed]",
      "text/plain": [
       "<Figure size 640x480 with 1 Axes>"
      ]
     },
     "metadata": {},
     "output_type": "display_data"
    }
   ],
   "source": [
    "import numpy as np\n",
    "plt.scatter(X,Y)\n",
    "w, b = model.parameters()\n",
    "print(\"直线方程为: y = {:.2f}x + {:.2f}\".format(w.item(), b.item()))\n",
    "plot_x = np.linspace(-1.5,1.5)\n",
    "plot_y = plot_x *w.item()+b.item()\n",
    "plt.plot(plot_x,plot_y,'r')"
   ]
  }
 ],
 "metadata": {
  "kernelspec": {
   "display_name": "base",
   "language": "python",
   "name": "python3"
  },
  "language_info": {
   "codemirror_mode": {
    "name": "ipython",
    "version": 3
   },
   "file_extension": ".py",
   "mimetype": "text/x-python",
   "name": "python",
   "nbconvert_exporter": "python",
   "pygments_lexer": "ipython3",
   "version": "3.9.16"
  },
  "orig_nbformat": 4
 },
 "nbformat": 4,
 "nbformat_minor": 2
}
