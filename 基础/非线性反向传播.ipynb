{
 "cells": [
  {
   "attachments": {},
   "cell_type": "markdown",
   "metadata": {},
   "source": [
    "### 02.2 非线性反向传播\n",
    "\n",
    "<img src=\"https://microsoft.github.io/ai-edu/%E5%9F%BA%E7%A1%80%E6%95%99%E7%A8%8B/A2-%E7%A5%9E%E7%BB%8F%E7%BD%91%E7%BB%9C%E5%9F%BA%E6%9C%AC%E5%8E%9F%E7%90%86/%E7%AC%AC1%E6%AD%A5%20-%20%E5%9F%BA%E6%9C%AC%E7%9F%A5%E8%AF%86/img/2/game.png\" ch=\"500\" />\n",
    "\n",
    "设置$x$初始值为$1.3$，目标值为$1.8$，误差小于$0.001$"
   ]
  },
  {
   "cell_type": "code",
   "execution_count": 71,
   "metadata": {},
   "outputs": [],
   "source": [
    "import numpy as np\n",
    "import matplotlib.pyplot as plt\n",
    "\n",
    "x=1.3\n",
    "y=1.8\n",
    "error = 1e-3\n",
    "X,Y = [],[]"
   ]
  },
  {
   "attachments": {},
   "cell_type": "markdown",
   "metadata": {},
   "source": [
    "前向计算：根据数学解析式，分别计算$a,b,c$的值"
   ]
  },
  {
   "cell_type": "code",
   "execution_count": 72,
   "metadata": {},
   "outputs": [
    {
     "name": "stdout",
     "output_type": "stream",
     "text": [
      "x=1.300000,a=1.690000,b=0.524729,c=0.724381\n"
     ]
    }
   ],
   "source": [
    "def forward(x):\n",
    "    a = x*x\n",
    "    b = np.log(a)\n",
    "    c = np.sqrt(b)\n",
    "    return a,b,c\n",
    "a,b,c = forward(x)\n",
    "print(\"x=%f,a=%f,b=%f,c=%f\" %(x,a,b,c))"
   ]
  },
  {
   "attachments": {},
   "cell_type": "markdown",
   "metadata": {},
   "source": [
    "反向传播:根据差值依次向前传播给$x$，从而更新$x$值\n",
    "\n",
    "$$\n",
    "\\frac{da}{dx}=\\frac{d(x^2)}{dx}=2x=\\frac{\\Delta a}{\\Delta x} \\tag{1}\n",
    "$$\n",
    "\n",
    "$$\n",
    "\\frac{db}{da} =\\frac{d(\\ln{a})}{da} =\\frac{1}{a} = \\frac{\\Delta b}{\\Delta a} \\tag{2}\n",
    "$$\n",
    "\n",
    "$$\n",
    "\\frac{dc}{db}=\\frac{d(\\sqrt{b})}{db}=\\frac{1}{2\\sqrt{b}}=\\frac{\\Delta c}{\\Delta b} \\tag{3}\n",
    "$$\n",
    "\n",
    "$$\n",
    "\\Delta c = c - y \\tag{4}\n",
    "$$"
   ]
  },
  {
   "cell_type": "code",
   "execution_count": 73,
   "metadata": {},
   "outputs": [
    {
     "name": "stdout",
     "output_type": "stream",
     "text": [
      "loss=-1.075619, delta_x=-1.012906, delta_a=-2.633554, delta_b=-1.558316, delta_c=-1.075619\n"
     ]
    }
   ],
   "source": [
    "def backward(x,a,b,c,y):\n",
    "    #计算c与目标之间的差值\n",
    "    loss = c - y\n",
    "    delta_c = loss\n",
    "    delta_b = delta_c * 2 * np.sqrt(b)\n",
    "    delta_a = delta_b * a\n",
    "    delta_x = delta_a / 2 / x\n",
    "    return loss, delta_x, delta_a, delta_b, delta_c\n",
    "print(\"loss=%f, delta_x=%f, delta_a=%f, delta_b=%f, delta_c=%f\" % backward(x,a,b,c,y))"
   ]
  },
  {
   "attachments": {},
   "cell_type": "markdown",
   "metadata": {},
   "source": [
    "更新x的值，并控制其不超过定义域 $1<x<=10$"
   ]
  },
  {
   "cell_type": "code",
   "execution_count": 74,
   "metadata": {},
   "outputs": [],
   "source": [
    "def update(x, delta_x):\n",
    "    x = x - delta_x\n",
    "    if x < 1:\n",
    "        x = 1.1\n",
    "    return x"
   ]
  },
  {
   "attachments": {},
   "cell_type": "markdown",
   "metadata": {},
   "source": [
    "开始迭代："
   ]
  },
  {
   "cell_type": "code",
   "execution_count": 75,
   "metadata": {},
   "outputs": [
    {
     "name": "stdout",
     "output_type": "stream",
     "text": [
      "前向计算...\n",
      "x=1.300000,a=1.690000,b=0.524729,c=0.724381\n",
      "反向传播...\n",
      "delta_c=-1.075619, delta_b=-1.558316, delta_a=-2.633554, delta_x=-1.012906\n",
      "\n",
      "前向计算...\n",
      "x=2.312906,a=5.349532,b=1.677009,c=1.294994\n",
      "反向传播...\n",
      "delta_c=-0.505006, delta_b=-1.307960, delta_a=-6.996972, delta_x=-1.512594\n",
      "\n",
      "前向计算...\n",
      "x=3.825499,a=14.634444,b=2.683378,c=1.638102\n",
      "反向传播...\n",
      "delta_c=-0.161898, delta_b=-0.530411, delta_a=-7.762271, delta_x=-1.014544\n",
      "\n",
      "前向计算...\n",
      "x=4.840043,a=23.426014,b=3.153847,c=1.775907\n",
      "反向传播...\n",
      "delta_c=-0.024093, delta_b=-0.085572, delta_a=-2.004621, delta_x=-0.207087\n",
      "\n",
      "前向计算...\n",
      "x=5.047130,a=25.473520,b=3.237639,c=1.799344\n",
      "反向传播...\n",
      "done!\n"
     ]
    }
   ],
   "source": [
    "while(True):\n",
    "        # 前向计算\n",
    "        print(\"前向计算...\")\n",
    "        a,b,c = forward(x)\n",
    "        print(\"x=%f,a=%f,b=%f,c=%f\" %(x,a,b,c))\n",
    "        X.append(x)\n",
    "        Y.append(c)\n",
    "        # 反向传播\n",
    "        print(\"反向传播...\")\n",
    "        loss, delta_x, delta_a, delta_b, delta_c = backward(x,a,b,c,y)\n",
    "        #检测是否小于规定误差\n",
    "        if abs(loss) < error:\n",
    "            print(\"done!\")\n",
    "            break\n",
    "        # 更新x的值\n",
    "        x = update(x, delta_x)\n",
    "        print(\"delta_c=%f, delta_b=%f, delta_a=%f, delta_x=%f\\n\" %(delta_c, delta_b, delta_a, delta_x))"
   ]
  },
  {
   "attachments": {},
   "cell_type": "markdown",
   "metadata": {},
   "source": [
    "迭代了5次，画出函数曲线(蓝色)，并将每次迭代的点，用X标记在曲线上。绿色的这个线大概是导数曲线"
   ]
  },
  {
   "cell_type": "code",
   "execution_count": 76,
   "metadata": {},
   "outputs": [
    {
     "data": {
      "image/png": "[encoded data removed]",
      "text/plain": [
       "<Figure size 640x480 with 1 Axes>"
      ]
     },
     "metadata": {},
     "output_type": "display_data"
    }
   ],
   "source": [
    "x = np.linspace(1.2,10)\n",
    "a = x*x\n",
    "b = np.log(a)\n",
    "c = np.sqrt(b)\n",
    "plt.plot(x,c)\n",
    "\n",
    "plt.plot(X,Y,'x')\n",
    "d = 1/(x*np.sqrt(np.log(x**2)))\n",
    "plt.plot(x,d)\n",
    "plt.show()"
   ]
  }
 ],
 "metadata": {
  "kernelspec": {
   "display_name": "Python 3",
   "language": "python",
   "name": "python3"
  },
  "language_info": {
   "codemirror_mode": {
    "name": "ipython",
    "version": 3
   },
   "file_extension": ".py",
   "mimetype": "text/x-python",
   "name": "python",
   "nbconvert_exporter": "python",
   "pygments_lexer": "ipython3",
   "version": "3.11.0"
  },
  "orig_nbformat": 4
 },
 "nbformat": 4,
 "nbformat_minor": 2
}
