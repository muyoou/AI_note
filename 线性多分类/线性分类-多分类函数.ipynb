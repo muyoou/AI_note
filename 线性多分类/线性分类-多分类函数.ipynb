{
 "cells": [
  {
   "attachments": {},
   "cell_type": "markdown",
   "metadata": {},
   "source": [
    "### 7.2 线性多分类的神经网络实现\n",
    "\n",
    "<img src=\"https://microsoft.github.io/ai-edu/%E5%9F%BA%E7%A1%80%E6%95%99%E7%A8%8B/A2-%E7%A5%9E%E7%BB%8F%E7%BD%91%E7%BB%9C%E5%9F%BA%E6%9C%AC%E5%8E%9F%E7%90%86/%E7%AC%AC3%E6%AD%A5%20-%20%E7%BA%BF%E6%80%A7%E5%88%86%E7%B1%BB/img/7/MultipleClassifierNN.png\">  \n",
    "\n",
    "多入多出单层神经网络\n",
    "#### 输入层\n",
    "\n",
    "输入经度 $x_1$ 和纬度 $x_2$ 两个特征：\n",
    "\n",
    "$$\n",
    "x=\\begin{pmatrix}\n",
    "x_1 & x_2\n",
    "\\end{pmatrix}\n",
    "$$\n",
    "\n",
    "#### 数据处理\n",
    "首先读取数据："
   ]
  },
  {
   "cell_type": "code",
   "execution_count": 29,
   "metadata": {},
   "outputs": [
    {
     "name": "stdout",
     "output_type": "stream",
     "text": [
      "x: 最小值0 - 最大值9\n"
     ]
    }
   ],
   "source": [
    "import numpy as np\n",
    "from HelperClass.NeuralNet_1_2 import *\n",
    "file_name = \"ch07.npz\"\n",
    "reader = DataReader_1_3(file_name)\n",
    "reader.ReadData()\n",
    "print(\"x: 最小值%d - 最大值%d\"%(reader.XRaw.min(),reader.XRaw.max()))"
   ]
  },
  {
   "attachments": {},
   "cell_type": "markdown",
   "metadata": {},
   "source": [
    "数据可视化："
   ]
  },
  {
   "cell_type": "code",
   "execution_count": 30,
   "metadata": {},
   "outputs": [
    {
     "data": {
      "image/png": "[encoded data removed]",
      "text/plain": [
       "<Figure size 600x600 with 1 Axes>"
      ]
     },
     "metadata": {},
     "output_type": "display_data"
    }
   ],
   "source": [
    "def ShowData(X,Y):\n",
    "    plt.figure(figsize=(6,6))\n",
    "    for i in range(X.shape[0]):\n",
    "        if Y[i,0] == 1:\n",
    "            plt.plot(X[i,0], X[i,1], '.', c='r')\n",
    "        elif Y[i,0] == 2:\n",
    "            plt.plot(X[i,0], X[i,1], 'x', c='g')\n",
    "        elif Y[i,0] == 3:\n",
    "            plt.plot(X[i,0], X[i,1], '^', c='b')\n",
    "        # end if\n",
    "    # end for\n",
    "ShowData(reader.XRaw,reader.YRaw)"
   ]
  },
  {
   "attachments": {},
   "cell_type": "markdown",
   "metadata": {},
   "source": [
    "数据范围从0-9，所以我们要先给数据做归一化："
   ]
  },
  {
   "cell_type": "code",
   "execution_count": 31,
   "metadata": {},
   "outputs": [
    {
     "name": "stdout",
     "output_type": "stream",
     "text": [
      "[[0.93278371 0.74598501]\n",
      " [0.40869526 0.40783451]\n",
      " [0.89865806 0.66969611]]\n"
     ]
    }
   ],
   "source": [
    "reader.NormalizeX()\n",
    "print(reader.XTrain[0:3,:])"
   ]
  },
  {
   "attachments": {},
   "cell_type": "markdown",
   "metadata": {},
   "source": [
    "然后我们把数据转化为OneHot格式：\n",
    "$$\n",
    "Y = \n",
    "\\begin{pmatrix}\n",
    "y_1 \\\\\\\\ y_2 \\\\\\\\ \\vdots \\\\\\\\ y_{140}\n",
    "\\end{pmatrix}=\n",
    "\\begin{pmatrix}\n",
    "0 & 0 & 1 \\\\\\\\\n",
    "0 & 1 & 0 \\\\\\\\\n",
    "... & ... & ... \\\\\\\\\n",
    "1 & 0 & 0\n",
    "\\end{pmatrix}\n",
    "$$"
   ]
  },
  {
   "cell_type": "code",
   "execution_count": 32,
   "metadata": {},
   "outputs": [
    {
     "name": "stdout",
     "output_type": "stream",
     "text": [
      "转换前：\n",
      "[[3.]\n",
      " [2.]\n",
      " [3.]]\n",
      "转换后：\n",
      "[[0. 0. 1.]\n",
      " [0. 1. 0.]\n",
      " [0. 0. 1.]]\n"
     ]
    }
   ],
   "source": [
    "num_category = 3\n",
    "print(\"转换前：\")\n",
    "print(reader.YRaw[0:3])\n",
    "print(\"转换后：\")\n",
    "reader.ToOneHot(num_category, base=1)\n",
    "print(reader.YTrain[0:3])"
   ]
  },
  {
   "attachments": {},
   "cell_type": "markdown",
   "metadata": {},
   "source": [
    "初始化$W,B$矩阵\n",
    "$W$权重矩阵的尺寸，可以从前往后看，比如：输入层是2个特征，输出层是3个神经元，则$W$的尺寸就是 $2\\times 3$。\n",
    "\n",
    "$$\n",
    "W=\\begin{pmatrix}\n",
    "w_{11} & w_{12} & w_{13}\\\\\\\\\n",
    "w_{21} & w_{22} & w_{23} \n",
    "\\end{pmatrix}\n",
    "$$\n",
    "\n",
    "$B$的尺寸是1x3，列数永远和神经元的数量一样，行数永远是1。\n",
    "\n",
    "$$\n",
    "B=\\begin{pmatrix}\n",
    "b_1 & b_2 & b_3 \n",
    "\\end{pmatrix}\n",
    "$$\n"
   ]
  },
  {
   "cell_type": "code",
   "execution_count": 33,
   "metadata": {},
   "outputs": [],
   "source": [
    "num_input = 2\n",
    "num_category = 3\n",
    "W = np.zeros((num_input, num_category))\n",
    "B = np.zeros((1, num_category))"
   ]
  },
  {
   "attachments": {},
   "cell_type": "markdown",
   "metadata": {},
   "source": [
    "获取第一次迭代，一次循环的数据做演示"
   ]
  },
  {
   "cell_type": "code",
   "execution_count": 34,
   "metadata": {},
   "outputs": [
    {
     "name": "stdout",
     "output_type": "stream",
     "text": [
      "[[0.93278371 0.74598501]\n",
      " [0.40869526 0.40783451]\n",
      " [0.89865806 0.66969611]\n",
      " [0.2678741  0.62139555]\n",
      " [0.71903616 0.6386378 ]\n",
      " [0.88502788 0.42307896]\n",
      " [0.48063809 0.47590707]\n",
      " [0.34156247 0.76146347]\n",
      " [0.52904883 0.39155129]\n",
      " [0.32204294 0.77120267]]\n"
     ]
    }
   ],
   "source": [
    "batch_size=10\n",
    "batch_x, batch_y = reader.GetBatchTrainSamples(batch_size, 0)\n",
    "print(batch_x)"
   ]
  },
  {
   "attachments": {},
   "cell_type": "markdown",
   "metadata": {},
   "source": [
    "#### 前向计算  \n",
    "矩阵运算：\n",
    "$$\n",
    "z = x \\cdot w + b\n",
    "$$\n",
    "分类运算：\n",
    "$$\n",
    "a_j = \\frac{e^{z_j}}{\\sum\\limits_{i=1}^m e^{z_i}}=\\frac{e^{z_j}}{e^{z_1}+e^{z_2}+\\dots+e^{z_m}} \n",
    "$$"
   ]
  },
  {
   "cell_type": "code",
   "execution_count": 35,
   "metadata": {},
   "outputs": [
    {
     "name": "stdout",
     "output_type": "stream",
     "text": [
      "[[0. 0. 0.]\n",
      " [0. 0. 0.]\n",
      " [0. 0. 0.]\n",
      " [0. 0. 0.]\n",
      " [0. 0. 0.]\n",
      " [0. 0. 0.]\n",
      " [0. 0. 0.]\n",
      " [0. 0. 0.]\n",
      " [0. 0. 0.]\n",
      " [0. 0. 0.]]\n"
     ]
    }
   ],
   "source": [
    "Z = np.dot(batch_x, W) + B\n",
    "print(Z)"
   ]
  },
  {
   "attachments": {},
   "cell_type": "markdown",
   "metadata": {},
   "source": [
    "这个可能会发生的问题是，当x很大时，np.exp(x)很容易溢出，因为是指数运算。所以，有了下面这种改进的代码："
   ]
  },
  {
   "cell_type": "code",
   "execution_count": 36,
   "metadata": {},
   "outputs": [
    {
     "name": "stdout",
     "output_type": "stream",
     "text": [
      "[[0.33333333 0.33333333 0.33333333]\n",
      " [0.33333333 0.33333333 0.33333333]\n",
      " [0.33333333 0.33333333 0.33333333]\n",
      " [0.33333333 0.33333333 0.33333333]\n",
      " [0.33333333 0.33333333 0.33333333]\n",
      " [0.33333333 0.33333333 0.33333333]\n",
      " [0.33333333 0.33333333 0.33333333]\n",
      " [0.33333333 0.33333333 0.33333333]\n",
      " [0.33333333 0.33333333 0.33333333]\n",
      " [0.33333333 0.33333333 0.33333333]]\n"
     ]
    }
   ],
   "source": [
    "def forward(z):\n",
    "    shift_z = z - np.max(z, axis=1, keepdims=True)\n",
    "    exp_z = np.exp(shift_z)\n",
    "    a = exp_z / np.sum(exp_z, axis=1, keepdims=True)\n",
    "    return a\n",
    "batch_a = forward(Z)\n",
    "print(batch_a)"
   ]
  },
  {
   "attachments": {},
   "cell_type": "markdown",
   "metadata": {},
   "source": [
    "#### 反向传播\n",
    "\n",
    "反向传播就是一个简单的减法:\n",
    "$$\n",
    "\\frac{\\partial loss}{\\partial z_i}=a_i-y_i \n",
    "$$\n",
    "$$\n",
    "w=\\frac{1}{m} X^{\\top} \\cdot (Z-Y) \n",
    "$$\n",
    "$$\n",
    "b=\\frac{1}{m}(Z-Y)\n",
    "$$"
   ]
  },
  {
   "cell_type": "code",
   "execution_count": 37,
   "metadata": {},
   "outputs": [
    {
     "name": "stdout",
     "output_type": "stream",
     "text": [
      "[[ 0.33333333  0.33333333 -0.66666667]\n",
      " [ 0.33333333 -0.66666667  0.33333333]\n",
      " [ 0.33333333  0.33333333 -0.66666667]\n",
      " [ 0.33333333 -0.66666667  0.33333333]\n",
      " [ 0.33333333  0.33333333 -0.66666667]\n",
      " [ 0.33333333  0.33333333 -0.66666667]\n",
      " [ 0.33333333 -0.66666667  0.33333333]\n",
      " [-0.66666667  0.33333333  0.33333333]\n",
      " [ 0.33333333 -0.66666667  0.33333333]\n",
      " [-0.66666667  0.33333333  0.33333333]]\n",
      "[[ 0.12648504  0.02421996 -0.150705  ]\n",
      " [ 0.04362513  0.00722291 -0.05084804]]\n",
      "[[ 0.13333333 -0.06666667 -0.06666667]]\n"
     ]
    }
   ],
   "source": [
    "def backwardBatch(batch_x, batch_y, batch_a):\n",
    "    m = batch_x.shape[0]\n",
    "    dZ = batch_a - batch_y\n",
    "    print(dZ)\n",
    "    dB = dZ.sum(axis=0, keepdims=True)/m\n",
    "    dW = np.dot(batch_x.T, dZ)/m\n",
    "    return dW, dB\n",
    "dW, dB = backwardBatch(batch_x, batch_y, batch_a)\n",
    "print(dW)\n",
    "print(dB)"
   ]
  },
  {
   "attachments": {},
   "cell_type": "markdown",
   "metadata": {},
   "source": [
    "#### 更新$w,b$的值\n",
    "设置学习率为0.1，更新值"
   ]
  },
  {
   "cell_type": "code",
   "execution_count": 38,
   "metadata": {},
   "outputs": [
    {
     "name": "stdout",
     "output_type": "stream",
     "text": [
      "[[-0.0126485  -0.002422    0.0150705 ]\n",
      " [-0.00436251 -0.00072229  0.0050848 ]]\n",
      "[[-0.01333333  0.00666667  0.00666667]]\n"
     ]
    }
   ],
   "source": [
    "eta = 0.1\n",
    "W = W - eta * dW\n",
    "B = B - eta * dB\n",
    "print(W)\n",
    "print(B)"
   ]
  },
  {
   "attachments": {},
   "cell_type": "markdown",
   "metadata": {},
   "source": [
    "#### 计算损失函数值\n",
    "损失函数不再是均方差和二分类交叉熵了，而是交叉熵函数对于多分类的形式，并且添加条件分支来判断只在网络类型为多分类时调用此损失函数。  \n",
    "计算单样本时，m是分类数：\n",
    "$$\n",
    "loss(w,b)=-\\sum_{i=1}^m y_i \\ln a_i \\tag{3}\n",
    "$$\n",
    "\n",
    "计算多样本时，m是分类数，n是样本数：\n",
    "$$J(w,b) =- \\sum_{j=1}^n \\sum_{i=1}^m y_{ji} \\log a_{ji} \\tag{4}$$\n",
    "\n",
    "重新计算所有的$A$："
   ]
  },
  {
   "cell_type": "code",
   "execution_count": 39,
   "metadata": {},
   "outputs": [],
   "source": [
    "X,Y = reader.GetWholeTrainSamples()\n",
    "m = X.shape[0]\n",
    "Z = np.dot(X, W) + B\n",
    "A = forward(Z)\n",
    "\n"
   ]
  },
  {
   "attachments": {},
   "cell_type": "markdown",
   "metadata": {},
   "source": [
    "计算$LOSS$:"
   ]
  },
  {
   "cell_type": "code",
   "execution_count": 40,
   "metadata": {},
   "outputs": [
    {
     "name": "stdout",
     "output_type": "stream",
     "text": [
      "1.0974039847640213\n"
     ]
    }
   ],
   "source": [
    "def CheckLoss(A, Y):\n",
    "        m = Y.shape[0]\n",
    "        p1 = np.log(A)\n",
    "        p2 =  np.multiply(Y, p1)\n",
    "        LOSS = np.sum(-p2)\n",
    "        loss = LOSS / m\n",
    "        return loss\n",
    "loss = CheckLoss(A, Y)\n",
    "print(loss)"
   ]
  },
  {
   "attachments": {},
   "cell_type": "markdown",
   "metadata": {},
   "source": [
    "#### 正式训练"
   ]
  },
  {
   "cell_type": "code",
   "execution_count": 41,
   "metadata": {},
   "outputs": [
    {
     "data": {
      "image/png": "[encoded data removed]",
      "text/plain": [
       "<Figure size 640x480 with 1 Axes>"
      ]
     },
     "metadata": {},
     "output_type": "display_data"
    },
    {
     "name": "stdout",
     "output_type": "stream",
     "text": [
      "W= [[-1.73952402 -3.23834453  4.97786854]\n",
      " [ 4.75562922 -3.17976625 -1.57586297]]\n",
      "B= [[-1.70699286  3.5300115  -1.82301864]]\n"
     ]
    }
   ],
   "source": [
    "params = HyperParameters_1_1(num_input, num_category, eta=0.1, max_epoch=100, batch_size=10, eps=1e-3, net_type=NetType.MultipleClassifier)\n",
    "net = NeuralNet_1_2(params)\n",
    "net.train(reader, checkpoint=1)"
   ]
  },
  {
   "attachments": {},
   "cell_type": "markdown",
   "metadata": {},
   "source": [
    "#### 测试值"
   ]
  },
  {
   "cell_type": "code",
   "execution_count": 42,
   "metadata": {},
   "outputs": [
    {
     "name": "stdout",
     "output_type": "stream",
     "text": [
      "测试数据：\n",
      " [[5 1]\n",
      " [7 6]\n",
      " [5 6]\n",
      " [2 7]]\n",
      "输出=\n",
      " [[0.01758115 0.74560647 0.23681237]\n",
      " [0.26715841 0.15060428 0.58223732]\n",
      " [0.43192543 0.33129802 0.23677655]\n",
      " [0.63208089 0.34487737 0.02304174]]\n",
      "r= [2 3 1 1]\n"
     ]
    }
   ],
   "source": [
    "def inference(net, reader):\n",
    "    xt_raw = np.array([5,1,7,6,5,6,2,7]).reshape(4,2)\n",
    "    print(\"测试数据：\\n\",xt_raw)\n",
    "    # 测试数据做归一化\n",
    "    xt = reader.NormalizePredicateData(xt_raw)\n",
    "    # 做一遍前向计算\n",
    "    output = net.inference(xt)\n",
    "    r = np.argmax(output, axis=1)+1\n",
    "    print(\"输出=\\n\", output)\n",
    "    print(\"r=\", r)\n",
    "\n",
    "inference(net, reader)"
   ]
  },
  {
   "attachments": {},
   "cell_type": "markdown",
   "metadata": {},
   "source": [
    "数据可视化："
   ]
  },
  {
   "cell_type": "code",
   "execution_count": 63,
   "metadata": {},
   "outputs": [
    {
     "data": {
      "image/png": "[encoded data removed]",
      "text/plain": [
       "<Figure size 600x600 with 1 Axes>"
      ]
     },
     "metadata": {},
     "output_type": "display_data"
    }
   ],
   "source": [
    "reader.NormalizeX()\n",
    "ShowData(reader.XTrain,reader.YRaw)\n",
    "b13 = (net.B[0,0] - net.B[0,2])/(net.W[1,2] - net.W[1,0])\n",
    "w13 = (net.W[0,0] - net.W[0,2])/(net.W[1,2] - net.W[1,0])\n",
    "b23 = (net.B[0,2] - net.B[0,1])/(net.W[1,1] - net.W[1,2])\n",
    "w23 = (net.W[0,2] - net.W[0,1])/(net.W[1,1] - net.W[1,2])\n",
    "b12 = (net.B[0,1] - net.B[0,0])/(net.W[1,0] - net.W[1,1])\n",
    "w12 = (net.W[0,1] - net.W[0,0])/(net.W[1,0] - net.W[1,1])\n",
    "plt.xlim(0,1)\n",
    "plt.ylim(0,1)\n",
    "x = np.linspace(0.54,1)\n",
    "y = w13 * x + b13\n",
    "p13, = plt.plot(x,y,c='r')\n",
    "x = np.linspace(0.543,1)\n",
    "y = w23 * x + b23\n",
    "p23, = plt.plot(x,y,c='b')\n",
    "x = np.linspace(0,0.54)\n",
    "y = w12 * x + b12\n",
    "p12, = plt.plot(x,y,c='g')"
   ]
  }
 ],
 "metadata": {
  "kernelspec": {
   "display_name": "Python 3",
   "language": "python",
   "name": "python3"
  },
  "language_info": {
   "codemirror_mode": {
    "name": "ipython",
    "version": 3
   },
   "file_extension": ".py",
   "mimetype": "text/x-python",
   "name": "python",
   "nbconvert_exporter": "python",
   "pygments_lexer": "ipython3",
   "version": "3.11.0"
  },
  "orig_nbformat": 4
 },
 "nbformat": 4,
 "nbformat_minor": 2
}
