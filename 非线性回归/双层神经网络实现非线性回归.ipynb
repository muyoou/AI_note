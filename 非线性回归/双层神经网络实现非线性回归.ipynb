{
 "cells": [
  {
   "attachments": {},
   "cell_type": "markdown",
   "metadata": {},
   "source": [
    "### 9.4 双层神经网络实现非线性回归\n",
    "<img src=\"https://microsoft.github.io/ai-edu/%E5%9F%BA%E7%A1%80%E6%95%99%E7%A8%8B/A2-%E7%A5%9E%E7%BB%8F%E7%BD%91%E7%BB%9C%E5%9F%BA%E6%9C%AC%E5%8E%9F%E7%90%86/%E7%AC%AC4%E6%AD%A5%20-%20%E9%9D%9E%E7%BA%BF%E6%80%A7%E5%9B%9E%E5%BD%92/img/9/nn.png\">"
   ]
  },
  {
   "attachments": {},
   "cell_type": "markdown",
   "metadata": {},
   "source": [
    "#### 输入层\n",
    "\n",
    "输入层就是一个标量x值，如果是成批输入，则是一个矢量或者矩阵，但是特征值数量总为1，因为只有一个横坐标值做为输入。\n",
    "\n",
    "$$X = (x)$$\n",
    "\n",
    "#### 权重矩阵W1/B1\n",
    "\n",
    "$$\n",
    "W1=\n",
    "\\begin{pmatrix}\n",
    "w1_{11} & w1_{12} & w1_{13}\n",
    "\\end{pmatrix}\n",
    "$$\n",
    "\n",
    "$$\n",
    "B1=\n",
    "\\begin{pmatrix}\n",
    "b1_{1} & b1_{2} & b1_{3} \n",
    "\\end{pmatrix}\n",
    "$$\n",
    "先读取数据："
   ]
  },
  {
   "cell_type": "code",
   "execution_count": 1,
   "metadata": {},
   "outputs": [
    {
     "name": "stdout",
     "output_type": "stream",
     "text": [
      "X数据：\n",
      " [[0.82883643]\n",
      " [0.09618617]\n",
      " [0.62155319]]\n",
      "Y数据：\n",
      " [[-0.87166035]\n",
      " [ 0.48192171]\n",
      " [-0.71338129]]\n"
     ]
    }
   ],
   "source": [
    "import numpy as np\n",
    "import matplotlib.pyplot as plt\n",
    "from mpl_toolkits.mplot3d import Axes3D\n",
    "from HelperClass2.NeuralNet_2_0 import *\n",
    "from HelperClass2.DataReader_2_0 import *\n",
    "train_data_name = \"ch09_1.train.npz\"\n",
    "test_data_name = \"ch09_1.test.npz\"\n",
    "reader = DataReader_2_0(train_data_name, test_data_name)\n",
    "reader.ReadData()\n",
    "print(\"X数据：\\n\",reader.XTrainRaw[:3])\n",
    "print(\"Y数据：\\n\",reader.YTrainRaw[:3])"
   ]
  },
  {
   "attachments": {},
   "cell_type": "markdown",
   "metadata": {},
   "source": [
    "数据可视化："
   ]
  },
  {
   "cell_type": "code",
   "execution_count": 2,
   "metadata": {},
   "outputs": [
    {
     "data": {
      "text/plain": [
       "<matplotlib.collections.PathCollection at 0x21bcc04b410>"
      ]
     },
     "execution_count": 2,
     "metadata": {},
     "output_type": "execute_result"
    },
    {
     "data": {
      "image/png": "[encoded data removed]",
      "text/plain": [
       "<Figure size 640x480 with 1 Axes>"
      ]
     },
     "metadata": {},
     "output_type": "display_data"
    }
   ],
   "source": [
    "plt.scatter(reader.XTrainRaw[:,0],reader.YTrainRaw[:,0])"
   ]
  },
  {
   "attachments": {},
   "cell_type": "markdown",
   "metadata": {},
   "source": [
    "生成验证集，将训练集里的十分之一的数据提取出来做验证集："
   ]
  },
  {
   "cell_type": "code",
   "execution_count": 3,
   "metadata": {},
   "outputs": [
    {
     "name": "stdout",
     "output_type": "stream",
     "text": [
      "验证集大小： 50\n",
      "训练集大小： 450\n"
     ]
    }
   ],
   "source": [
    "k = 10\n",
    "# 训练集的个数等于总样本个数除以10\n",
    "reader.num_validation = (int)(reader.num_train / k)\n",
    "# 更新训练集的大小\n",
    "reader.num_train = reader.num_train - reader.num_validation\n",
    "# 验证集\n",
    "reader.XDev = reader.XTrain[0:reader.num_validation]\n",
    "reader.YDev = reader.YTrain[0:reader.num_validation]\n",
    "# 训练集\n",
    "reader.XTrain = reader.XTrain[reader.num_validation:]\n",
    "reader.YTrain = reader.YTrain[reader.num_validation:]\n",
    "print(\"验证集大小：\",reader.num_validation)\n",
    "print(\"训练集大小：\",reader.num_train)"
   ]
  },
  {
   "attachments": {},
   "cell_type": "markdown",
   "metadata": {},
   "source": [
    "创建一个子文件夹$sin_121$来放初始化后的$w,b$参数："
   ]
  },
  {
   "cell_type": "code",
   "execution_count": 4,
   "metadata": {},
   "outputs": [
    {
     "name": "stdout",
     "output_type": "stream",
     "text": [
      "参数路径： c:\\Users\\muyoo\\Documents\\AI学习\\非线性回归\\sin_121\n"
     ]
    }
   ],
   "source": [
    "model_name = \"sin_121\"\n",
    "def __create_subfolder():\n",
    "    if model_name != None:\n",
    "        path = model_name.strip()\n",
    "        path = path.rstrip(\"\\\\\")\n",
    "        isExists = os.path.exists(path)\n",
    "        if not isExists:\n",
    "            os.makedirs(path)\n",
    "        return path\n",
    "subfolder = os.getcwd() + \"\\\\\" + __create_subfolder()\n",
    "print(\"参数路径：\",subfolder)"
   ]
  },
  {
   "attachments": {},
   "cell_type": "markdown",
   "metadata": {},
   "source": [
    "使用Xavier方法初始化$w,b$："
   ]
  },
  {
   "cell_type": "code",
   "execution_count": 5,
   "metadata": {},
   "outputs": [
    {
     "name": "stdout",
     "output_type": "stream",
     "text": [
      "W1: [[0.80850367 0.38044913]]\n",
      "B1: [[0. 0.]]\n",
      "W2: [[0.99734071]\n",
      " [0.68211674]]\n",
      "B2: [[0.]]\n"
     ]
    }
   ],
   "source": [
    "n_input, n_hidden, n_output = 1, 2, 1\n",
    "eta, batch_size, max_epoch = 0.05, 10, 5000\n",
    "\n",
    "wb1 = WeightsBias_1_0(n_input, n_hidden, InitialMethod.Xavier, eta)\n",
    "wb1.InitializeWeights(subfolder, False)\n",
    "wb2 = WeightsBias_1_0(n_hidden, n_output, InitialMethod.Xavier, eta)\n",
    "wb2.InitializeWeights(subfolder, False)\n",
    "print(\"W1:\",wb1.W)\n",
    "print(\"B1:\",wb1.B)\n",
    "print(\"W2:\",wb2.W)\n",
    "print(\"B2:\",wb2.B)"
   ]
  },
  {
   "attachments": {},
   "cell_type": "markdown",
   "metadata": {},
   "source": [
    "获取一个计算批次"
   ]
  },
  {
   "cell_type": "code",
   "execution_count": 6,
   "metadata": {},
   "outputs": [
    {
     "name": "stdout",
     "output_type": "stream",
     "text": [
      "[[0.80200784]\n",
      " [0.9218713 ]\n",
      " [0.49176632]\n",
      " [0.81316241]\n",
      " [0.28280854]\n",
      " [0.42372096]\n",
      " [0.41822499]\n",
      " [0.22837097]\n",
      " [0.22477366]\n",
      " [0.4211547 ]]\n"
     ]
    }
   ],
   "source": [
    "batch_size = 10\n",
    "batch_x, batch_y = reader.GetBatchTrainSamples(batch_size, 0)\n",
    "print(batch_x)"
   ]
  },
  {
   "attachments": {},
   "cell_type": "markdown",
   "metadata": {},
   "source": [
    "#### 前向计算\n",
    "<img src=\"https://microsoft.github.io/ai-edu/%E5%9F%BA%E7%A1%80%E6%95%99%E7%A8%8B/A2-%E7%A5%9E%E7%BB%8F%E7%BD%91%E7%BB%9C%E5%9F%BA%E6%9C%AC%E5%8E%9F%E7%90%86/%E7%AC%AC4%E6%AD%A5%20-%20%E9%9D%9E%E7%BA%BF%E6%80%A7%E5%9B%9E%E5%BD%92/img/9/forward.png\">  \n",
    "\n",
    "##### 线性计算\n",
    "\n",
    "$$\n",
    "z1_{1} = x \\cdot w1_{11} + b1_{1}\n",
    "$$\n",
    "\n",
    "$$\n",
    "z1_{2} = x \\cdot w1_{12} + b1_{2}\n",
    "$$\n",
    "\n",
    "$$\n",
    "z1_{3} = x \\cdot w1_{13} + b1_{3}\n",
    "$$"
   ]
  },
  {
   "cell_type": "code",
   "execution_count": 7,
   "metadata": {},
   "outputs": [
    {
     "name": "stdout",
     "output_type": "stream",
     "text": [
      "[[0.64842628 0.30512318]\n",
      " [0.74533632 0.35072513]\n",
      " [0.39759488 0.18709207]\n",
      " [0.65744479 0.30936693]\n",
      " [0.22865174 0.10759426]\n",
      " [0.34257995 0.16120427]\n",
      " [0.33813644 0.15911333]\n",
      " [0.18463877 0.08688354]\n",
      " [0.18173033 0.08551494]\n",
      " [0.34050512 0.16022794]]\n"
     ]
    }
   ],
   "source": [
    "Z1 = np.dot(batch_x, wb1.W) + wb1.B\n",
    "print(Z1)"
   ]
  },
  {
   "attachments": {},
   "cell_type": "markdown",
   "metadata": {},
   "source": [
    "\n",
    "##### 激活函数\n",
    "\n",
    "$$\n",
    "a1_{1} = Sigmoid(z1_{1})\n",
    "$$\n",
    "\n",
    "$$\n",
    "a1_{2} = Sigmoid(z1_{2})\n",
    "$$\n",
    "\n",
    "$$\n",
    "a1_{3} = Sigmoid(z1_{3})\n",
    "$$\n",
    "\n",
    "矩阵形式：\n",
    "\n",
    "$$\n",
    "A1 = Sigmoid(Z1) \\tag{2}\n",
    "$$"
   ]
  },
  {
   "cell_type": "code",
   "execution_count": 8,
   "metadata": {},
   "outputs": [
    {
     "name": "stdout",
     "output_type": "stream",
     "text": [
      "[[0.65665574 0.57569444]\n",
      " [0.67816166 0.58679341]\n",
      " [0.59810967 0.54663706]\n",
      " [0.65868616 0.57673073]\n",
      " [0.55691518 0.52687265]\n",
      " [0.58481709 0.54021402]\n",
      " [0.58373777 0.53969462]\n",
      " [0.546029   0.52170723]\n",
      " [0.54530796 0.52136572]\n",
      " [0.58431322 0.53997151]]\n"
     ]
    }
   ],
   "source": [
    "A1 = Sigmoid().forward(Z1)\n",
    "print(A1)"
   ]
  },
  {
   "attachments": {},
   "cell_type": "markdown",
   "metadata": {},
   "source": [
    "##### 输出层\n",
    "\n",
    "由于我们只想完成一个拟合任务，所以输出层只有一个神经元：\n",
    "\n",
    "$$\n",
    "\\begin{aligned}\n",
    "Z2&=a1_{1}w2_{11}+a1_{2}w2_{21}+a1_{3}w2_{31}+b2_{1} \\\\\\\\\n",
    "&= \n",
    "\\begin{pmatrix}\n",
    "a1_{1} & a1_{2} & a1_{3}\n",
    "\\end{pmatrix}\n",
    "\\begin{pmatrix}\n",
    "w2_{11} \\\\\\\\ w2_{21} \\\\\\\\ w2_{31}\n",
    "\\end{pmatrix}\n",
    "+b2_1 \\\\\\\\\n",
    "&=A1 \\cdot W2+B2\n",
    "\\end{aligned} \\tag{3}\n",
    "$$"
   ]
  },
  {
   "cell_type": "code",
   "execution_count": 9,
   "metadata": {},
   "outputs": [
    {
     "name": "stdout",
     "output_type": "stream",
     "text": [
      "[[1.04760032]\n",
      " [1.07661984]\n",
      " [0.96938941]\n",
      " [1.05033221]\n",
      " [0.91482283]\n",
      " [0.95175091]\n",
      " [0.95032018]\n",
      " [0.90044219]\n",
      " [0.89949011]\n",
      " [0.95108296]]\n"
     ]
    }
   ],
   "source": [
    "A2 = Z2 = np.dot(A1, wb2.W) + wb2.B\n",
    "print(Z2)"
   ]
  },
  {
   "attachments": {},
   "cell_type": "markdown",
   "metadata": {},
   "source": [
    "#### 反向传播\n",
    "<img src=\"https://microsoft.github.io/ai-edu/%E5%9F%BA%E7%A1%80%E6%95%99%E7%A8%8B/A2-%E7%A5%9E%E7%BB%8F%E7%BD%91%E7%BB%9C%E5%9F%BA%E6%9C%AC%E5%8E%9F%E7%90%86/%E7%AC%AC4%E6%AD%A5%20-%20%E9%9D%9E%E7%BA%BF%E6%80%A7%E5%9B%9E%E5%BD%92/img/9/backward.png\">\n",
    "\n",
    "##### 损失函数\n",
    "\n",
    "均方差损失函数：\n",
    "\n",
    "$$loss(w,b) = \\frac{1}{2} (z2-y)^2 \\tag{4}$$\n",
    "##### 求损失函数对输出层的反向误差\n",
    "\n",
    "根据公式4：\n",
    "\n",
    "$$\n",
    "\\frac{\\partial loss}{\\partial z2} = z2 - y \\rightarrow dZ2 \\tag{5}\n",
    "$$"
   ]
  },
  {
   "cell_type": "code",
   "execution_count": 10,
   "metadata": {},
   "outputs": [
    {
     "name": "stdout",
     "output_type": "stream",
     "text": [
      "[[ 2.07032841]\n",
      " [ 1.45534089]\n",
      " [ 0.91316855]\n",
      " [ 1.90836578]\n",
      " [-0.06856711]\n",
      " [ 0.57695961]\n",
      " [ 0.36274938]\n",
      " [-0.07798675]\n",
      " [-0.06551976]\n",
      " [ 0.38084913]]\n"
     ]
    }
   ],
   "source": [
    "# 批量下降，需要除以样本数量，否则会造成梯度爆炸\n",
    "m = batch_x.shape[0]\n",
    "# 第二层的梯度输入 公式5\n",
    "dZ2 = A2 - batch_y\n",
    "print(dZ2)"
   ]
  },
  {
   "attachments": {},
   "cell_type": "markdown",
   "metadata": {},
   "source": [
    "##### 求W2的梯度\n",
    "\n",
    "根据公式3和W2的矩阵形状，把标量对矩阵的求导分解到矩阵中的每一元素：\n",
    "\n",
    "$$\n",
    "\\begin{aligned}\n",
    "\\frac{\\partial loss}{\\partial W2} &= \n",
    "\\begin{pmatrix}\n",
    "    \\frac{\\partial loss}{\\partial z2}\\frac{\\partial z2}{\\partial w2_{11}} \\\\\\\\\n",
    "    \\frac{\\partial loss}{\\partial z2}\\frac{\\partial z2}{\\partial w2_{21}} \\\\\\\\\n",
    "    \\frac{\\partial loss}{\\partial z2}\\frac{\\partial z2}{\\partial w2_{31}}\n",
    "\\end{pmatrix}\n",
    "\\begin{pmatrix}\n",
    "    dZ2 \\cdot a1_{1} \\\\\\\\\n",
    "    dZ2 \\cdot a1_{2} \\\\\\\\\n",
    "    dZ2 \\cdot a1_{3}\n",
    "\\end{pmatrix} \\\\\\\\\n",
    "&=\\begin{pmatrix}\n",
    "    a1_{1} \\\\\\\\ a1_{2} \\\\\\\\ a1_{3}\n",
    "\\end{pmatrix} \\cdot dZ2\n",
    "=A1^{\\top} \\cdot dZ2 \\rightarrow dW2\n",
    "\\end{aligned} \\tag{6}\n",
    "$$"
   ]
  },
  {
   "cell_type": "code",
   "execution_count": 11,
   "metadata": {},
   "outputs": [
    {
     "name": "stdout",
     "output_type": "stream",
     "text": [
      "[[0.48048425]\n",
      " [0.42477771]]\n"
     ]
    }
   ],
   "source": [
    "# 第二层的权重和偏移 公式6\n",
    "wb2.dW = np.dot(A1.T, dZ2)/m\n",
    "print(wb2.dW)"
   ]
  },
  {
   "attachments": {},
   "cell_type": "markdown",
   "metadata": {},
   "source": [
    "#### 求B2的梯度\n",
    "\n",
    "$$\n",
    "\\frac{\\partial loss}{\\partial B2}=dZ2 \\rightarrow dB2 \\tag{7}\n",
    "$$"
   ]
  },
  {
   "cell_type": "code",
   "execution_count": 12,
   "metadata": {},
   "outputs": [
    {
     "name": "stdout",
     "output_type": "stream",
     "text": [
      "[[0.74556881]]\n"
     ]
    }
   ],
   "source": [
    "# 公式7 对于多样本计算，需要在横轴上做sum，得到平均值\n",
    "wb2.dB = np.sum(dZ2, axis=0, keepdims=True)/m \n",
    "print(wb2.dB)"
   ]
  },
  {
   "attachments": {},
   "cell_type": "markdown",
   "metadata": {},
   "source": [
    "##### 求A1\n",
    "$$\n",
    "\\begin{aligned}\n",
    "\\frac{\\partial loss}{\\partial A1}&=\n",
    "\\begin{pmatrix}\n",
    "    \\frac{\\partial loss}{\\partial Z2}\\frac{\\partial Z2}{\\partial a1_{11}}\n",
    "    &\n",
    "    \\frac{\\partial loss}{\\partial Z2}\\frac{\\partial Z2}{\\partial a1_{12}}\n",
    "    &\n",
    "    \\frac{\\partial loss}{\\partial Z2}\\frac{\\partial Z2}{\\partial a1_{13}}\n",
    "\\end{pmatrix} \\\\\\\\\n",
    "&=\n",
    "\\begin{pmatrix}\n",
    "dZ2 \\cdot w2_{11} & dZ2 \\cdot w2_{12} & dZ2 \\cdot w2_{13}\n",
    "\\end{pmatrix} \\\\\\\\\n",
    "&=dZ2 \\cdot\n",
    "\\begin{pmatrix}\n",
    "    w2_{11} & w2_{21} & w2_{31}\n",
    "\\end{pmatrix} \\\\\\\\\n",
    "&=dZ2 \\cdot\n",
    "\\begin{pmatrix}\n",
    "    w2_{11} \\\\\\\\ w2_{21} \\\\\\\\ w2_{31}\n",
    "\\end{pmatrix}^{\\top}=dZ2 \\cdot W2^{\\top}\n",
    "\\end{aligned} \\tag{8}\n",
    "$$"
   ]
  },
  {
   "cell_type": "code",
   "execution_count": 13,
   "metadata": {},
   "outputs": [
    {
     "name": "stdout",
     "output_type": "stream",
     "text": [
      "[[ 2.0648228   1.41220566]\n",
      " [ 1.45147072  0.99271239]\n",
      " [ 0.91074017  0.62288756]\n",
      " [ 1.90329088  1.30172825]\n",
      " [-0.06838477 -0.04677077]\n",
      " [ 0.57542531  0.39355381]\n",
      " [ 0.36178472  0.24743742]\n",
      " [-0.07777936 -0.05319607]\n",
      " [-0.06534553 -0.04469213]\n",
      " [ 0.37983635  0.25978357]]\n"
     ]
    }
   ],
   "source": [
    "# 第一层的梯度输入 公式8\n",
    "d1 = np.dot(dZ2, wb2.W.T)\n",
    "print(d1)"
   ]
  },
  {
   "attachments": {},
   "cell_type": "markdown",
   "metadata": {},
   "source": [
    "##### 激活函数的反向传播\n",
    "\n",
    "$$\n",
    "\\frac{\\partial A1}{\\partial Z1}= Sigmoid'(A1) = A1 \\odot (1-A1) \\tag{9}\n",
    "$$\n",
    "\n",
    "所以最后到达Z1的误差矩阵是：\n",
    "\n",
    "$$\n",
    "\\begin{aligned}\n",
    "\\frac{\\partial loss}{\\partial Z1}&=\\frac{\\partial loss}{\\partial A1}\\frac{\\partial A1}{\\partial Z1} \\\\\\\\\n",
    "&=dZ2 \\cdot W2^T \\odot Sigmoid'(A1) \\rightarrow dZ1\n",
    "\\end{aligned} \\tag{10}\n",
    "$$"
   ]
  },
  {
   "cell_type": "code",
   "execution_count": 14,
   "metadata": {},
   "outputs": [
    {
     "name": "stdout",
     "output_type": "stream",
     "text": [
      "[[ 0.46553284  0.34495997]\n",
      " [ 0.31679571  0.2406999 ]\n",
      " [ 0.21891871  0.1543671 ]\n",
      " [ 0.42789538  0.317768  ]\n",
      " [-0.01687467 -0.01165892]\n",
      " [ 0.13971675  0.09775201]\n",
      " [ 0.08790934  0.06146948]\n",
      " [-0.01928005 -0.01327395]\n",
      " [-0.01620224 -0.01115263]\n",
      " [ 0.09225894  0.06453083]]\n"
     ]
    }
   ],
   "source": [
    "# 第一层的dZ 公式10\n",
    "dZ1,_ = Sigmoid().backward(None, A1, d1)\n",
    "print(dZ1)"
   ]
  },
  {
   "attachments": {},
   "cell_type": "markdown",
   "metadata": {},
   "source": [
    "##### 再求$w1,b1$\n",
    "$$\n",
    "dW1=X^T \\cdot dZ1 \\tag{11}\n",
    "$$\n",
    "\n",
    "$$\n",
    "dB1=dZ1 \\tag{12}\n",
    "$$"
   ]
  },
  {
   "cell_type": "code",
   "execution_count": 15,
   "metadata": {},
   "outputs": [
    {
     "name": "stdout",
     "output_type": "stream",
     "text": [
      "dW1: [[0.12430161 0.09183341]]\n",
      "dB1: [[0.12430161 0.09183341]]\n"
     ]
    }
   ],
   "source": [
    "# 第一层的权重和偏移 公式11\n",
    "wb1.dW = np.dot(batch_x.T, dZ1)/m\n",
    "print(\"dW1:\",wb1.dW)\n",
    "# 公式12 对于多样本计算，需要在横轴上做sum，得到平均值\n",
    "wb1.dB = np.sum(dZ1, axis=0, keepdims=True)/m \n",
    "print(\"dB1:\",wb1.dW)"
   ]
  },
  {
   "attachments": {},
   "cell_type": "markdown",
   "metadata": {},
   "source": [
    "然后更新权重矩阵就可以了"
   ]
  },
  {
   "cell_type": "code",
   "execution_count": 16,
   "metadata": {},
   "outputs": [
    {
     "name": "stdout",
     "output_type": "stream",
     "text": [
      "c:\\Users\\muyoo\\Documents\\AI学习\\非线性回归\\sin_121\n",
      "epoch=49, total_iteration=2249\n",
      "loss_train=0.092511, accuracy_train=0.544631\n",
      "loss_valid=0.090598, accuracy_valid=0.482406\n",
      "epoch=99, total_iteration=4499\n",
      "loss_train=0.074839, accuracy_train=0.592600\n",
      "loss_valid=0.066041, accuracy_valid=0.622701\n",
      "epoch=149, total_iteration=6749\n",
      "loss_train=0.105985, accuracy_train=0.522884\n",
      "loss_valid=0.063281, accuracy_valid=0.638472\n",
      "epoch=199, total_iteration=8999\n",
      "loss_train=0.052430, accuracy_train=0.735146\n",
      "loss_valid=0.060976, accuracy_valid=0.651639\n",
      "epoch=249, total_iteration=11249\n",
      "loss_train=0.062800, accuracy_train=0.737835\n",
      "loss_valid=0.058393, accuracy_valid=0.666398\n",
      "epoch=299, total_iteration=13499\n",
      "loss_train=0.101875, accuracy_train=0.374034\n",
      "loss_valid=0.055482, accuracy_valid=0.683027\n",
      "epoch=349, total_iteration=15749\n",
      "loss_train=0.089525, accuracy_train=0.236413\n",
      "loss_valid=0.052461, accuracy_valid=0.700287\n",
      "epoch=399, total_iteration=17999\n",
      "loss_train=0.062906, accuracy_train=0.838391\n",
      "loss_valid=0.049116, accuracy_valid=0.719397\n",
      "epoch=449, total_iteration=20249\n",
      "loss_train=0.072306, accuracy_train=0.772903\n",
      "loss_valid=0.045583, accuracy_valid=0.739582\n",
      "epoch=499, total_iteration=22499\n",
      "loss_train=0.056478, accuracy_train=0.767396\n",
      "loss_valid=0.041065, accuracy_valid=0.765390\n",
      "epoch=549, total_iteration=24749\n",
      "loss_train=0.032439, accuracy_train=0.854612\n",
      "loss_valid=0.035240, accuracy_valid=0.798672\n",
      "epoch=599, total_iteration=26999\n",
      "loss_train=0.045855, accuracy_train=0.850206\n",
      "loss_valid=0.028367, accuracy_valid=0.837938\n",
      "epoch=649, total_iteration=29249\n",
      "loss_train=0.052128, accuracy_train=0.768856\n",
      "loss_valid=0.022017, accuracy_valid=0.874217\n",
      "epoch=699, total_iteration=31499\n",
      "loss_train=0.012874, accuracy_train=0.937512\n",
      "loss_valid=0.015600, accuracy_valid=0.910873\n",
      "epoch=749, total_iteration=33749\n",
      "loss_train=0.041099, accuracy_train=0.842770\n",
      "loss_valid=0.011421, accuracy_valid=0.934749\n",
      "epoch=799, total_iteration=35999\n",
      "loss_train=0.013384, accuracy_train=0.903957\n",
      "loss_valid=0.008788, accuracy_valid=0.949793\n",
      "epoch=849, total_iteration=38249\n",
      "loss_train=0.019288, accuracy_train=0.927596\n",
      "loss_valid=0.007552, accuracy_valid=0.956852\n",
      "epoch=899, total_iteration=40499\n",
      "loss_train=0.008890, accuracy_train=0.968275\n",
      "loss_valid=0.006489, accuracy_valid=0.962927\n",
      "epoch=949, total_iteration=42749\n",
      "loss_train=0.018596, accuracy_train=0.913289\n",
      "loss_valid=0.006091, accuracy_valid=0.965203\n",
      "epoch=999, total_iteration=44999\n",
      "loss_train=0.008862, accuracy_train=0.949929\n",
      "loss_valid=0.005990, accuracy_valid=0.965780\n",
      "epoch=1049, total_iteration=47249\n",
      "loss_train=0.007777, accuracy_train=0.969916\n",
      "loss_valid=0.006008, accuracy_valid=0.965673\n",
      "epoch=1099, total_iteration=49499\n",
      "loss_train=0.009499, accuracy_train=0.927015\n",
      "loss_valid=0.006132, accuracy_valid=0.964970\n",
      "epoch=1149, total_iteration=51749\n",
      "loss_train=0.008332, accuracy_train=0.974921\n",
      "loss_valid=0.006014, accuracy_valid=0.965640\n",
      "epoch=1199, total_iteration=53999\n",
      "loss_train=0.003533, accuracy_train=0.988429\n",
      "loss_valid=0.006094, accuracy_valid=0.965185\n",
      "epoch=1249, total_iteration=56249\n",
      "loss_train=0.006156, accuracy_train=0.969210\n",
      "loss_valid=0.005980, accuracy_valid=0.965838\n",
      "epoch=1299, total_iteration=58499\n",
      "loss_train=0.006315, accuracy_train=0.971275\n",
      "loss_valid=0.005934, accuracy_valid=0.966101\n",
      "epoch=1349, total_iteration=60749\n",
      "loss_train=0.003862, accuracy_train=0.983375\n",
      "loss_valid=0.006120, accuracy_valid=0.965034\n",
      "epoch=1399, total_iteration=62999\n",
      "loss_train=0.002767, accuracy_train=0.990535\n",
      "loss_valid=0.005869, accuracy_valid=0.966469\n",
      "epoch=1449, total_iteration=65249\n",
      "loss_train=0.006128, accuracy_train=0.974799\n",
      "loss_valid=0.005889, accuracy_valid=0.966353\n",
      "epoch=1499, total_iteration=67499\n",
      "loss_train=0.003183, accuracy_train=0.976102\n",
      "loss_valid=0.005802, accuracy_valid=0.966854\n",
      "epoch=1549, total_iteration=69749\n",
      "loss_train=0.004941, accuracy_train=0.979400\n",
      "loss_valid=0.005845, accuracy_valid=0.966606\n",
      "epoch=1599, total_iteration=71999\n",
      "loss_train=0.006358, accuracy_train=0.972833\n",
      "loss_valid=0.005818, accuracy_valid=0.966761\n",
      "epoch=1649, total_iteration=74249\n",
      "loss_train=0.006876, accuracy_train=0.972806\n",
      "loss_valid=0.005678, accuracy_valid=0.967561\n",
      "epoch=1699, total_iteration=76499\n",
      "loss_train=0.005280, accuracy_train=0.974900\n",
      "loss_valid=0.005591, accuracy_valid=0.968057\n",
      "epoch=1749, total_iteration=78749\n",
      "loss_train=0.006105, accuracy_train=0.960952\n",
      "loss_valid=0.005606, accuracy_valid=0.967972\n",
      "epoch=1799, total_iteration=80999\n",
      "loss_train=0.008019, accuracy_train=0.941786\n",
      "loss_valid=0.005489, accuracy_valid=0.968640\n",
      "epoch=1849, total_iteration=83249\n",
      "loss_train=0.004412, accuracy_train=0.977010\n",
      "loss_valid=0.005424, accuracy_valid=0.969013\n",
      "epoch=1899, total_iteration=85499\n",
      "loss_train=0.005037, accuracy_train=0.976649\n",
      "loss_valid=0.005677, accuracy_valid=0.967568\n",
      "epoch=1949, total_iteration=87749\n",
      "loss_train=0.004942, accuracy_train=0.973196\n",
      "loss_valid=0.005338, accuracy_valid=0.969503\n",
      "epoch=1999, total_iteration=89999\n",
      "loss_train=0.008180, accuracy_train=0.961054\n",
      "loss_valid=0.005434, accuracy_valid=0.968956\n",
      "epoch=2049, total_iteration=92249\n",
      "loss_train=0.005989, accuracy_train=0.970051\n",
      "loss_valid=0.005246, accuracy_valid=0.970028\n",
      "epoch=2099, total_iteration=94499\n",
      "loss_train=0.006084, accuracy_train=0.973204\n",
      "loss_valid=0.005192, accuracy_valid=0.970336\n",
      "epoch=2149, total_iteration=96749\n",
      "loss_train=0.003906, accuracy_train=0.988922\n",
      "loss_valid=0.005156, accuracy_valid=0.970542\n",
      "epoch=2199, total_iteration=98999\n",
      "loss_train=0.005848, accuracy_train=0.979823\n",
      "loss_valid=0.005134, accuracy_valid=0.970669\n",
      "epoch=2249, total_iteration=101249\n",
      "loss_train=0.004963, accuracy_train=0.978771\n",
      "loss_valid=0.005145, accuracy_valid=0.970606\n",
      "epoch=2299, total_iteration=103499\n",
      "loss_train=0.005300, accuracy_train=0.971277\n",
      "loss_valid=0.005033, accuracy_valid=0.971244\n",
      "epoch=2349, total_iteration=105749\n",
      "loss_train=0.002523, accuracy_train=0.991924\n",
      "loss_valid=0.005030, accuracy_valid=0.971265\n",
      "epoch=2399, total_iteration=107999\n",
      "loss_train=0.004207, accuracy_train=0.985734\n",
      "loss_valid=0.004928, accuracy_valid=0.971843\n",
      "epoch=2449, total_iteration=110249\n",
      "loss_train=0.005919, accuracy_train=0.969347\n",
      "loss_valid=0.005062, accuracy_valid=0.971080\n",
      "epoch=2499, total_iteration=112499\n",
      "loss_train=0.007207, accuracy_train=0.955181\n",
      "loss_valid=0.004978, accuracy_valid=0.971561\n",
      "epoch=2549, total_iteration=114749\n",
      "loss_train=0.006346, accuracy_train=0.981791\n",
      "loss_valid=0.004867, accuracy_valid=0.972192\n",
      "epoch=2599, total_iteration=116999\n",
      "loss_train=0.006654, accuracy_train=0.976695\n",
      "loss_valid=0.005047, accuracy_valid=0.971167\n",
      "epoch=2649, total_iteration=119249\n",
      "loss_train=0.007806, accuracy_train=0.958156\n",
      "loss_valid=0.004812, accuracy_valid=0.972508\n",
      "epoch=2699, total_iteration=121499\n",
      "loss_train=0.002888, accuracy_train=0.988300\n",
      "loss_valid=0.004755, accuracy_valid=0.972834\n",
      "epoch=2749, total_iteration=123749\n",
      "loss_train=0.007585, accuracy_train=0.921287\n",
      "loss_valid=0.004818, accuracy_valid=0.972476\n",
      "epoch=2799, total_iteration=125999\n",
      "loss_train=0.005338, accuracy_train=0.982131\n",
      "loss_valid=0.004663, accuracy_valid=0.973358\n",
      "epoch=2849, total_iteration=128249\n",
      "loss_train=0.004150, accuracy_train=0.982891\n",
      "loss_valid=0.004664, accuracy_valid=0.973356\n",
      "epoch=2899, total_iteration=130499\n",
      "loss_train=0.002586, accuracy_train=0.986793\n",
      "loss_valid=0.004629, accuracy_valid=0.973557\n",
      "epoch=2949, total_iteration=132749\n",
      "loss_train=0.005964, accuracy_train=0.962949\n",
      "loss_valid=0.004615, accuracy_valid=0.973631\n",
      "epoch=2999, total_iteration=134999\n",
      "loss_train=0.004952, accuracy_train=0.976598\n",
      "loss_valid=0.004529, accuracy_valid=0.974127\n",
      "epoch=3049, total_iteration=137249\n",
      "loss_train=0.006701, accuracy_train=0.963626\n",
      "loss_valid=0.004630, accuracy_valid=0.973546\n",
      "epoch=3099, total_iteration=139499\n",
      "loss_train=0.005847, accuracy_train=0.975578\n",
      "loss_valid=0.004619, accuracy_valid=0.973614\n",
      "epoch=3149, total_iteration=141749\n",
      "loss_train=0.001807, accuracy_train=0.987635\n",
      "loss_valid=0.005042, accuracy_valid=0.971195\n",
      "epoch=3199, total_iteration=143999\n",
      "loss_train=0.004201, accuracy_train=0.974866\n",
      "loss_valid=0.004470, accuracy_valid=0.974464\n",
      "epoch=3249, total_iteration=146249\n",
      "loss_train=0.006998, accuracy_train=0.971570\n",
      "loss_valid=0.004592, accuracy_valid=0.973763\n",
      "epoch=3299, total_iteration=148499\n",
      "loss_train=0.007305, accuracy_train=0.969358\n",
      "loss_valid=0.004497, accuracy_valid=0.974306\n",
      "epoch=3349, total_iteration=150749\n",
      "loss_train=0.006335, accuracy_train=0.956611\n",
      "loss_valid=0.004350, accuracy_valid=0.975150\n",
      "epoch=3399, total_iteration=152999\n",
      "loss_train=0.003552, accuracy_train=0.985965\n",
      "loss_valid=0.004378, accuracy_valid=0.974987\n",
      "epoch=3449, total_iteration=155249\n",
      "loss_train=0.004153, accuracy_train=0.969895\n",
      "loss_valid=0.004293, accuracy_valid=0.975472\n",
      "epoch=3499, total_iteration=157499\n",
      "loss_train=0.004312, accuracy_train=0.984695\n",
      "loss_valid=0.005000, accuracy_valid=0.971436\n",
      "epoch=3549, total_iteration=159749\n",
      "loss_train=0.003680, accuracy_train=0.983953\n",
      "loss_valid=0.004260, accuracy_valid=0.975662\n",
      "epoch=3599, total_iteration=161999\n",
      "loss_train=0.002304, accuracy_train=0.990487\n",
      "loss_valid=0.004215, accuracy_valid=0.975922\n",
      "epoch=3649, total_iteration=164249\n",
      "loss_train=0.003511, accuracy_train=0.982695\n",
      "loss_valid=0.004219, accuracy_valid=0.975895\n",
      "epoch=3699, total_iteration=166499\n",
      "loss_train=0.007305, accuracy_train=0.948222\n",
      "loss_valid=0.004439, accuracy_valid=0.974638\n",
      "epoch=3749, total_iteration=168749\n",
      "loss_train=0.003233, accuracy_train=0.987618\n",
      "loss_valid=0.004180, accuracy_valid=0.976118\n",
      "epoch=3799, total_iteration=170999\n",
      "loss_train=0.002766, accuracy_train=0.984032\n",
      "loss_valid=0.004152, accuracy_valid=0.976278\n",
      "epoch=3849, total_iteration=173249\n",
      "loss_train=0.002286, accuracy_train=0.992052\n",
      "loss_valid=0.004371, accuracy_valid=0.975029\n",
      "epoch=3899, total_iteration=175499\n",
      "loss_train=0.003330, accuracy_train=0.970741\n",
      "loss_valid=0.004065, accuracy_valid=0.976777\n",
      "epoch=3949, total_iteration=177749\n",
      "loss_train=0.004230, accuracy_train=0.978129\n",
      "loss_valid=0.004097, accuracy_valid=0.976596\n",
      "epoch=3999, total_iteration=179999\n",
      "loss_train=0.003302, accuracy_train=0.980767\n",
      "loss_valid=0.004159, accuracy_valid=0.976238\n",
      "epoch=4049, total_iteration=182249\n",
      "loss_train=0.006354, accuracy_train=0.974946\n",
      "loss_valid=0.004083, accuracy_valid=0.976671\n",
      "epoch=4099, total_iteration=184499\n",
      "loss_train=0.003813, accuracy_train=0.987365\n",
      "loss_valid=0.003989, accuracy_valid=0.977211\n",
      "epoch=4149, total_iteration=186749\n",
      "loss_train=0.003601, accuracy_train=0.982830\n",
      "loss_valid=0.004029, accuracy_valid=0.976982\n",
      "epoch=4199, total_iteration=188999\n",
      "loss_train=0.011500, accuracy_train=0.959317\n",
      "loss_valid=0.004056, accuracy_valid=0.976827\n",
      "epoch=4249, total_iteration=191249\n",
      "loss_train=0.004933, accuracy_train=0.984490\n",
      "loss_valid=0.004113, accuracy_valid=0.976501\n",
      "epoch=4299, total_iteration=193499\n",
      "loss_train=0.004585, accuracy_train=0.984207\n",
      "loss_valid=0.003964, accuracy_valid=0.977353\n",
      "epoch=4349, total_iteration=195749\n",
      "loss_train=0.003246, accuracy_train=0.988094\n",
      "loss_valid=0.003967, accuracy_valid=0.977337\n",
      "epoch=4399, total_iteration=197999\n",
      "loss_train=0.006414, accuracy_train=0.928006\n",
      "loss_valid=0.003876, accuracy_valid=0.977855\n",
      "epoch=4449, total_iteration=200249\n",
      "loss_train=0.001697, accuracy_train=0.990860\n",
      "loss_valid=0.003868, accuracy_valid=0.977903\n",
      "epoch=4499, total_iteration=202499\n",
      "loss_train=0.003250, accuracy_train=0.984292\n",
      "loss_valid=0.003979, accuracy_valid=0.977265\n",
      "epoch=4549, total_iteration=204749\n",
      "loss_train=0.004197, accuracy_train=0.970911\n",
      "loss_valid=0.003869, accuracy_valid=0.977898\n",
      "epoch=4599, total_iteration=206999\n",
      "loss_train=0.004850, accuracy_train=0.979051\n",
      "loss_valid=0.004080, accuracy_valid=0.976690\n",
      "epoch=4649, total_iteration=209249\n",
      "loss_train=0.005622, accuracy_train=0.967339\n",
      "loss_valid=0.003857, accuracy_valid=0.977965\n",
      "epoch=4699, total_iteration=211499\n",
      "loss_train=0.004556, accuracy_train=0.977556\n",
      "loss_valid=0.003805, accuracy_valid=0.978260\n",
      "epoch=4749, total_iteration=213749\n",
      "loss_train=0.002745, accuracy_train=0.988446\n",
      "loss_valid=0.004378, accuracy_valid=0.974987\n",
      "epoch=4799, total_iteration=215999\n",
      "loss_train=0.006756, accuracy_train=0.977105\n",
      "loss_valid=0.003852, accuracy_valid=0.977996\n",
      "epoch=4849, total_iteration=218249\n",
      "loss_train=0.003881, accuracy_train=0.982824\n",
      "loss_valid=0.003791, accuracy_valid=0.978339\n",
      "epoch=4899, total_iteration=220499\n",
      "loss_train=0.004778, accuracy_train=0.944408\n",
      "loss_valid=0.003806, accuracy_valid=0.978255\n",
      "epoch=4949, total_iteration=222749\n",
      "loss_train=0.002753, accuracy_train=0.982593\n",
      "loss_valid=0.003782, accuracy_valid=0.978394\n",
      "epoch=4999, total_iteration=224999\n",
      "loss_train=0.001892, accuracy_train=0.993640\n",
      "loss_valid=0.004437, accuracy_valid=0.974651\n",
      "testing...\n",
      "0.9881110106804217\n"
     ]
    },
    {
     "data": {
      "image/png": "[encoded data removed]",
      "text/plain": [
       "<Figure size 1200x500 with 2 Axes>"
      ]
     },
     "metadata": {},
     "output_type": "display_data"
    },
    {
     "data": {
      "image/png": "[encoded data removed]",
      "text/plain": [
       "<Figure size 640x480 with 1 Axes>"
      ]
     },
     "metadata": {},
     "output_type": "display_data"
    }
   ],
   "source": [
    "\n",
    "def ShowResult(net, dataReader, title):\n",
    "    # draw train data\n",
    "    X,Y = dataReader.XTrain, dataReader.YTrain\n",
    "    plt.plot(X[:,0], Y[:,0], '.', c='b')\n",
    "    # create and draw visualized validation data\n",
    "    TX = np.linspace(0,1,100).reshape(100,1)\n",
    "    TY = net.inference(TX)\n",
    "    plt.plot(TX, TY, 'x', c='r')\n",
    "    plt.title(title)\n",
    "    plt.show()\n",
    "\n",
    "\n",
    "eps = 0.001\n",
    "hp = HyperParameters_2_0(n_input, n_hidden, n_output, eta, max_epoch, batch_size, eps, NetType.Fitting, InitialMethod.Xavier)\n",
    "net = NeuralNet_2_0(hp, \"sin_121\")\n",
    "\n",
    "net.train(reader, 50, True)\n",
    "net.ShowTrainingHistory()\n",
    "ShowResult(net, reader, hp.toString())\n"
   ]
  }
 ],
 "metadata": {
  "kernelspec": {
   "display_name": "Python 3",
   "language": "python",
   "name": "python3"
  },
  "language_info": {
   "codemirror_mode": {
    "name": "ipython",
    "version": 3
   },
   "file_extension": ".py",
   "mimetype": "text/x-python",
   "name": "python",
   "nbconvert_exporter": "python",
   "pygments_lexer": "ipython3",
   "version": "3.11.0"
  },
  "orig_nbformat": 4
 },
 "nbformat": 4,
 "nbformat_minor": 2
}
